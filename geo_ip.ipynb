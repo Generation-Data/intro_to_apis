{
 "cells": [
  {
   "cell_type": "markdown",
   "metadata": {},
   "source": [
    "### First API Call\n",
    "Use the IP-API to query information about a list of IP addresses."
   ]
  },
  {
   "cell_type": "markdown",
   "metadata": {},
   "source": [
    "#### Basics\n",
    "1. make a request & print the response\n",
    "2. load the response as a json\n",
    "    - using the json method for the response\n",
    "    - using json.loads()\n",
    "3. narrow the fields to what you want\n",
    "    - using fields in the URL\n",
    "    - calling the fields from the response"
   ]
  },
  {
   "cell_type": "code",
   "execution_count": null,
   "metadata": {},
   "outputs": [],
   "source": [
    "#live demo code here\n",
    "import requests\n",
    "\n",
    "response = requests.get(\"http://ip-api.com/json/24.48.0.1?fields=country,city,zip\")\n",
    "print(response.json()[\"country\"])"
   ]
  },
  {
   "cell_type": "code",
   "execution_count": null,
   "metadata": {},
   "outputs": [],
   "source": [
    "#solution to live coding demo\n",
    "\n",
    "import requests\n",
    "import json\n",
    "\n",
    "response = requests.get(url=\"http://ip-api.com/json/?fields=city,country,org\")\n",
    "for field in [\"city\", \"country\", \"org\"]:\n",
    "    print(response.json()[field])\n",
    "json.loads(response.text)"
   ]
  },
  {
   "cell_type": "markdown",
   "metadata": {},
   "source": [
    "#### writing results to a file"
   ]
  },
  {
   "cell_type": "code",
   "execution_count": null,
   "metadata": {},
   "outputs": [],
   "source": [
    "#write to file example\n",
    "\n",
    "import requests\n",
    "\n",
    "response = requests.get(url = f\"http://ip-api.com/json/\")\n",
    "print(response.text)\n",
    "\n",
    "with open(\"response.json\", \"w\") as f:\n",
    "    f.write(response.text)"
   ]
  }
 ],
 "metadata": {
  "kernelspec": {
   "display_name": "Python 3",
   "language": "python",
   "name": "python3"
  },
  "language_info": {
   "codemirror_mode": {
    "name": "ipython",
    "version": 3
   },
   "file_extension": ".py",
   "mimetype": "text/x-python",
   "name": "python",
   "nbconvert_exporter": "python",
   "pygments_lexer": "ipython3",
   "version": "3.10.13"
  }
 },
 "nbformat": 4,
 "nbformat_minor": 2
}
